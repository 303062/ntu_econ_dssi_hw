{
 "cells": [
  {
   "cell_type": "code",
   "execution_count": 2,
   "metadata": {},
   "outputs": [],
   "source": [
    "import requests\n",
    "import pandas as pd\n",
    "import plotly.express as px\n",
    "from bs4 import BeautifulSoup\n",
    "from datetime import date\n",
    "from dash import Dash, html, dcc, callback, Output, Input"
   ]
  },
  {
   "cell_type": "code",
   "execution_count": 3,
   "metadata": {},
   "outputs": [
    {
     "data": {
      "text/html": [
       "\n",
       "        <iframe\n",
       "            width=\"100%\"\n",
       "            height=\"650\"\n",
       "            src=\"http://127.0.0.1:8050/\"\n",
       "            frameborder=\"0\"\n",
       "            allowfullscreen\n",
       "            \n",
       "        ></iframe>\n",
       "        "
      ],
      "text/plain": [
       "<IPython.lib.display.IFrame at 0x11564aa10>"
      ]
     },
     "metadata": {},
     "output_type": "display_data"
    }
   ],
   "source": [
    "header = {\n",
    "    'User-Agent': 'Mozilla/5.0 (Macintosh; Intel Mac OS X 10_15_7) AppleWebKit/537.36 (KHTML, like Gecko) Chrome/119.0.0.0 Safari/537.36'\n",
    "}\n",
    "\n",
    "app = Dash(__name__)\n",
    "\n",
    "@callback(\n",
    "        Output(\"scatter_plot\", \"figure\"),\n",
    "        Input(\"location_selecter\", \"value\"),\n",
    "        Input(\"date_selecter\", \"start_date\"),\n",
    "        Input(\"date_selecter\", \"end_date\")\n",
    ")\n",
    "def plotter(value, start_date, end_date):\n",
    "\n",
    "    hotels_lst = []\n",
    "\n",
    "    for offset in range(0, 125, 25):\n",
    "\n",
    "        URL = f\"https://www.booking.com/searchresults.zh-tw.html?ss={value}&ssne={value}&ssne_untouched={value}&label=gen173nr-1BCAEoggI46AdIM1gEaOcBiAEBmAEwuAEHyAEN2AEB6AEBiAIBqAIDuALGzPOqBsACAdICJDhmYTAwOTYzLTNmODktNGU3Ny05NTQ2LWU0ZGNhZmY0M2Y4YdgCBeACAQ&sid=1fa01af5e49730258126b119da65c366&aid=304142&lang=zh-tw&sb=1&src_elem=sb&dest_type=city&checkin={start_date}&checkout={end_date}&group_adults=1&no_rooms=1&group_children=0&offset={offset}\"\n",
    "\n",
    "        content = requests.get(URL, headers=header).text\n",
    "        soup = BeautifulSoup(content, \"html.parser\")\n",
    "\n",
    "        hotels_raw = soup.find_all('div', {'data-testid': 'property-card'})\n",
    "        for hotel in hotels_raw:\n",
    "\n",
    "            name_raw = hotel.find('div', {'data-testid': 'title'}) \n",
    "            location_raw = hotel.find('span', {'data-testid': 'address'})\n",
    "            price_raw = hotel.find('span', {'data-testid': 'price-and-discounted-price'})\n",
    "            rating_raw = hotel.find('div', {'class': 'a3b8729ab1 d86cee9b25'})\n",
    "            distance_raw = hotel.find('span', {'data-testid': 'distance'})\n",
    "            comment_raw = hotel.find('div', {'class': 'a3b8729ab1 e6208ee469 cb2cbb3ccb'})\n",
    "\n",
    "            if name_raw != None and location_raw != None and price_raw != None and rating_raw != None and distance_raw != None and comment_raw != None:\n",
    "\n",
    "                name = name_raw.text.strip()\n",
    "                location = location_raw.text.strip()\n",
    "                price = price_raw.text.strip()\n",
    "                rating = rating_raw.text.strip()\n",
    "                distance = distance_raw.text.strip()\n",
    "                meter = True if (distance[-1] == \"尺\") else False\n",
    "                distance = distance.replace(\"距中心 \", \"\").replace(\" 公里\", \"\").replace(\" 公尺\", \"\")\n",
    "                comment = comment_raw.text.strip()\n",
    "\n",
    "                hotels_lst.append({\n",
    "                    'name': name,\n",
    "                    'location': location,\n",
    "                    'price': int(price[4:].replace(',', '')),\n",
    "                    'rating': float(rating),\n",
    "                    'distance': float(distance) / 1000 if meter else float(distance),\n",
    "                    'comment': str(comment)\n",
    "                })\n",
    "\n",
    "    hotels_df = pd.DataFrame(hotels_lst)\n",
    "    fig = px.scatter(hotels_df, x=\"price\", y=\"distance\", color=\"rating\", hover_name=\"name\", hover_data=[\"location\", \"comment\"])\n",
    "    return fig\n",
    "\n",
    "app.layout = html.Div([\n",
    "    html.H1(dcc.Input(id=\"location_selecter\", value=\"倫敦\", type=\"text\"), style={'textAlign': 'center'}),\n",
    "    html.H2(dcc.DatePickerRange(\n",
    "        id=\"date_selecter\",\n",
    "        min_date_allowed=date(2023, 12, 1),\n",
    "        max_date_allowed=date(2025, 2, 28),\n",
    "        initial_visible_month=date(2023, 12, 3),\n",
    "        start_date=date(2023,12, 3),\n",
    "        end_date=date(2023, 12, 9)\n",
    "    ), style={'textAlign': 'center'}),\n",
    "    dcc.Graph(id=\"scatter_plot\", figure=plotter(\"倫敦\", \"2023-12-03\", \"2023-12-09\"))\n",
    "])\n",
    "\n",
    "if __name__ == '__main__':\n",
    "    app.run(debug=True)"
   ]
  }
 ],
 "metadata": {
  "kernelspec": {
   "display_name": "Python 3",
   "language": "python",
   "name": "python3"
  },
  "language_info": {
   "codemirror_mode": {
    "name": "ipython",
    "version": 3
   },
   "file_extension": ".py",
   "mimetype": "text/x-python",
   "name": "python",
   "nbconvert_exporter": "python",
   "pygments_lexer": "ipython3",
   "version": "3.11.5"
  }
 },
 "nbformat": 4,
 "nbformat_minor": 2
}
